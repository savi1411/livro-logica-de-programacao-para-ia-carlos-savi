{
  "nbformat": 4,
  "nbformat_minor": 0,
  "metadata": {
    "colab": {
      "provenance": []
    },
    "kernelspec": {
      "name": "python3",
      "display_name": "Python 3"
    },
    "language_info": {
      "name": "python"
    }
  },
  "cells": [
    {
      "cell_type": "code",
      "execution_count": null,
      "metadata": {
        "id": "_SFIlOP1-lse"
      },
      "outputs": [],
      "source": [
        "'''\n",
        "Livro: Lógica de Programação para IA\n",
        "Autor: Carlos Alberto Savi\n",
        "Miniprojeto: Calculadora de Média de Notas com Funções\n",
        "'''\n",
        "\n",
        "# Definição das Funções\n",
        "def calcular_media(notas):\n",
        "    total = sum(notas)\n",
        "    quantidade = len(notas)\n",
        "    return total / quantidade\n",
        "\n",
        "def obter_notas():\n",
        "    notas = []\n",
        "    while True:\n",
        "        entrada = input(\"Digite uma nota (ou 'sair' para finalizar): \")\n",
        "        if entrada.lower() == 'sair':\n",
        "            break\n",
        "        try:\n",
        "            nota = float(entrada)\n",
        "            notas.append(nota)\n",
        "        except ValueError:\n",
        "            print(\"Entrada inválida. Por favor, digite um número ou 'sair' para finalizar.\")\n",
        "    return notas\n",
        "\n",
        "# Fluxo Principal\n",
        "print(\"Bem-vindo à Calculadora de Média de Notas!\")\n",
        "notas = obter_notas()\n",
        "if notas:\n",
        "    media = calcular_media(notas)\n",
        "    print(f\"A média das notas fornecidas é: {media:.2f}\")\n",
        "else:\n",
        "    print(\"Nenhuma nota foi fornecida.\")\n",
        ""
      ]
    }
  ]
}