{
  "nbformat": 4,
  "nbformat_minor": 0,
  "metadata": {
    "colab": {
      "provenance": []
    },
    "kernelspec": {
      "name": "python3",
      "display_name": "Python 3"
    },
    "language_info": {
      "name": "python"
    }
  },
  "cells": [
    {
      "cell_type": "code",
      "execution_count": null,
      "metadata": {
        "id": "F8ID0pbu-56y"
      },
      "outputs": [],
      "source": [
        "'''\n",
        "Livro: Lógica de Programação para IA\n",
        "Autor: Carlos Alberto Savi\n",
        "Miniprojeto: Análise de Votação\n",
        "'''\n",
        "\n",
        "## Problema: Receber uma lista de votos (True e False) e determinar o resultado da votação:\n",
        "\n",
        "# Lista de votos: True para \"Sim\" e False para \"Não\"\n",
        "votos = [True, False, True, True, False, True, False, False, True, False]\n",
        "\n",
        "# Contagem de Votos\n",
        "def contar_votos(votos):\n",
        "    votos_sim = 0\n",
        "    votos_nao = 0\n",
        "\n",
        "    for voto in votos:\n",
        "        if voto:\n",
        "            votos_sim += 1\n",
        "        else:\n",
        "            votos_nao += 1\n",
        "\n",
        "    return votos_sim, votos_nao\n",
        "\n",
        " # Determinação do Resultado\n",
        "def determinar_resultado(votos_sim, votos_nao):\n",
        "    if votos_sim > votos_nao:\n",
        "        return \"Sim venceu\"\n",
        "    elif votos_sim < votos_nao:\n",
        "        return \"Não venceu\"\n",
        "    else:\n",
        "        return \"Houve empate\"\n",
        "\n",
        "# Função Principal\n",
        "def main():\n",
        "    # Lista de votos\n",
        "    votos = [True, False, True, True, False, True, False, False, True, False]\n",
        "\n",
        "    # Contar votos\n",
        "    votos_sim, votos_nao = contar_votos(votos)\n",
        "\n",
        "    # Determinar resultado\n",
        "    resultado = determinar_resultado(votos_sim, votos_nao)\n",
        "\n",
        "    # Exibir resultado\n",
        "    print(\"Resultado da votação:\", resultado)\n",
        "\n",
        "# Executar função principal\n",
        "main()\n"
      ]
    }
  ]
}