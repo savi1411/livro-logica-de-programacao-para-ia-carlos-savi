{
  "nbformat": 4,
  "nbformat_minor": 0,
  "metadata": {
    "colab": {
      "provenance": []
    },
    "kernelspec": {
      "name": "python3",
      "display_name": "Python 3"
    },
    "language_info": {
      "name": "python"
    }
  },
  "cells": [
    {
      "cell_type": "code",
      "execution_count": null,
      "metadata": {
        "id": "DVcEDr62_eae"
      },
      "outputs": [],
      "source": [
        "'''                                                                                             $\n",
        "Livro: Lógica de Programação para IA\n",
        "Autor: Carlos Alberto Savi\n",
        "Miniprojeto: Sistema de Recomedação de Filmes com IA\n",
        "'''\n",
        "\n",
        "import pandas as pd\n",
        "\n",
        "# Passo 1: Criando o DataFrame com filmes e características\n",
        "filmes = {\n",
        "    'Título': ['Filme A', 'Filme B', 'Filme C', 'Filme D'],\n",
        "    'Gênero': ['Ação', 'Comédia', 'Ação', 'Drama'],\n",
        "    'Duração': [120, 90, 150, 110],\n",
        "    'Ano': [2010, 2015, 2012, 2018],\n",
        "    'Avaliação': [4.5, 3.5, 4.0, 5.0]\n",
        "}\n",
        "df_filmes = pd.DataFrame(filmes)\n",
        "print(df_filmes)\n",
        "\n",
        "from sklearn.preprocessing import LabelEncoder\n",
        "from sklearn.metrics.pairwise import cosine_similarity\n",
        "\n",
        "# Passo 2: Convertendo os gêneros para valores numéricos\n",
        "le = LabelEncoder()\n",
        "df_filmes['Gênero'] = le.fit_transform(df_filmes['Gênero'])\n",
        "\n",
        "# Calculando a similaridade coseno\n",
        "similaridade = cosine_similarity(df_filmes[['Gênero', 'Duração', 'Ano', 'Avaliação']])\n",
        "print(similaridade)\n",
        "\n",
        "\n",
        "# Passo 3: Função de Recomendação\n",
        "def recomendar_filmes(titulo, similaridade, df_filmes):\n",
        "    # Encontrando o índice do filme\n",
        "    indice_filme = df_filmes[df_filmes['Título'] == titulo].index[0]\n",
        "\n",
        "    # Calculando a similaridade dos filmes\n",
        "    similaridades = list(enumerate(similaridade[indice_filme]))\n",
        "\n",
        "    # Ordenando os filmes pela similaridade\n",
        "    similaridades = sorted(similaridades, key=lambda x: x[1], reverse=True)\n",
        "\n",
        "    # Pegando os 3 filmes mais similares\n",
        "    recomendacoes = [df_filmes['Título'][i[0]] for i in similaridades[1:4]]\n",
        "    return recomendacoes\n",
        "\n",
        "# Exemplo de recomendação\n",
        "titulo_filme = 'Filme A'\n",
        "recomendacoes = recomendar_filmes(titulo_filme, similaridade, df_filmes)\n",
        "print(f\"Filmes recomendados para quem gostou de {titulo_filme}: {recomendacoes}\")\n"
      ]
    }
  ]
}