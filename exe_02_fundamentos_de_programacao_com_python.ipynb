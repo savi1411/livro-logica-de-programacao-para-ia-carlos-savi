{
  "nbformat": 4,
  "nbformat_minor": 0,
  "metadata": {
    "colab": {
      "provenance": []
    },
    "kernelspec": {
      "name": "python3",
      "display_name": "Python 3"
    },
    "language_info": {
      "name": "python"
    }
  },
  "cells": [
    {
      "cell_type": "code",
      "execution_count": null,
      "metadata": {
        "id": "5dlyLyzO7zm6"
      },
      "outputs": [],
      "source": [
        "'''\n",
        "Livro: Lógica de Programação para IA\n",
        "Autor: Carlos Alberto Savi\n",
        "Capítulo: Fundamentos de Programação com Python\n",
        "Soluções dos Exercícios\n",
        "'''\n",
        "\n",
        "## Exercício 2\n",
        "\n",
        "# Qual será a saída do seguinte snippet de código?\n",
        "nome = \"Carlos\"\n",
        "idade = 30\n",
        "altura = 1.75\n",
        "esta_chovendo = True\n",
        "\n",
        "print(f\"Nome: {nome}, Idade: {idade}, Altura: {altura}, Está chovendo? {esta_chovendo}\")\n",
        "\n",
        "# Resposta Esperada\n",
        "# Nome: Carlos, Idade: 30, Altura: 1.75, Está chovendo? True\n",
        "\n",
        "## Exercício 3\n",
        "# Escreva um programa em Python que peça ao usuário para inserir seu nome,\n",
        "# idade e altura.\n",
        "# O programa deve então imprimir essas informações em uma frase completa.\n",
        "# Utilize variáveis para armazenar os valores inseridos pelo usuário.\n",
        "\n",
        "nome = input(\"Digite seu nome: \")\n",
        "idade = int(input(\"Digite sua idade: \"))\n",
        "altura = float(input(\"Digite sua altura: \"))\n",
        "\n",
        "print(f\"Olá, {nome}! Você tem {idade} anos e sua altura é {altura} metros.\")\n"
      ]
    }
  ]
}