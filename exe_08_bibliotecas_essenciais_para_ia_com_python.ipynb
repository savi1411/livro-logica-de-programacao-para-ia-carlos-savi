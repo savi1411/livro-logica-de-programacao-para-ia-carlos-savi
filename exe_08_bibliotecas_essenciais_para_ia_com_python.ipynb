{
  "nbformat": 4,
  "nbformat_minor": 0,
  "metadata": {
    "colab": {
      "provenance": []
    },
    "kernelspec": {
      "name": "python3",
      "display_name": "Python 3"
    },
    "language_info": {
      "name": "python"
    }
  },
  "cells": [
    {
      "cell_type": "code",
      "execution_count": null,
      "metadata": {
        "id": "OKSObs6y9tjS"
      },
      "outputs": [],
      "source": [
        "'''\n",
        "Livro: Lógica de Programação para IA\n",
        "Autor: Carlos Alberto Savi\n",
        "Capítulo: Bibliotecas Essenciais para IA com Python\n",
        "Soluções dos Exercícios\n",
        "'''\n",
        "\n",
        "## Exercício 2\n",
        "\n",
        "# Considere o código abaixo que utiliza a biblioteca NumPy.\n",
        "# Identifique e corrija os erros de sintaxe no código.\n",
        "\n",
        "'''\n",
        "import numpy as np\n",
        "\n",
        "array = np.array(1, 2, 3, 4, 5)\n",
        "media = lista.mean()\n",
        "soma = lista.sum()\n",
        "\n",
        "print(f\"A média do array é {media} e a soma do array é {soma\")\n",
        "'''\n",
        "\n",
        "\n",
        "# Resposta: O código possui os seguintes erros:\n",
        "#   O array foi criado com o nome array mas, na sequência do código,\n",
        "#       foi utilizado indevidamente o nome lista para cálculo da media e da soma.\n",
        "#   Na função de formatação da string do comando print está faltando\n",
        "#       a chave de fechamento.\n",
        "\n",
        "# Código corrigido:\n",
        "import numpy as np\n",
        "\n",
        "array = np.array([1, 2, 3, 4, 5])\n",
        "media = array.mean()\n",
        "soma = array.sum()\n",
        "\n",
        "print(f\"A média do array é {media} e a soma do array é {soma}\")\n",
        "\n",
        "# Saída esperada:\n",
        "# A média do array é 3.0 e a soma do array é 15\n",
        "\n",
        "## Exercício 3\n",
        "\n",
        "# Utilize a biblioteca Matplotlib para criar um gráfico de barras\n",
        "# que exiba as vendas de produtos em uma loja.\n",
        "# Os dados são fornecidos abaixo:\n",
        "\n",
        "'''\n",
        "Produtos = 'Produto A', 'Produto B', 'Produto C', 'Produto D', 'Produto E'\n",
        "Vendas = 50, 80, 90, 70, 100\n",
        "'''\n",
        "\n",
        "# DICA: Temos um exemplo semelhante na parte teórica do capítulo,\n",
        "# porém naquele exemplo o gráfico gerado foi o de linhas e não de barras.\n",
        "\n",
        "# Exemplo de Solução:\n",
        "import matplotlib.pyplot as plt\n",
        "\n",
        "# Dados de vendas\n",
        "produtos = ['Produto A', 'Produto B', 'Produto C', 'Produto D', 'Produto E']\n",
        "vendas = [50, 80, 90, 70, 100]\n",
        "\n",
        "# Criando o gráfico de barras\n",
        "plt.bar(produtos, vendas)\n",
        "plt.xlabel('Produtos')\n",
        "plt.ylabel('Vendas')\n",
        "plt.title('Vendas de Produtos na Loja')\n",
        "plt.show()\n"
      ]
    }
  ]
}