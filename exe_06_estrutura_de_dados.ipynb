{
  "nbformat": 4,
  "nbformat_minor": 0,
  "metadata": {
    "colab": {
      "provenance": []
    },
    "kernelspec": {
      "name": "python3",
      "display_name": "Python 3"
    },
    "language_info": {
      "name": "python"
    }
  },
  "cells": [
    {
      "cell_type": "code",
      "execution_count": null,
      "metadata": {
        "id": "35Etg_mM9KWD"
      },
      "outputs": [],
      "source": [
        "'''\n",
        "Livro: Lógica de Programação para IA\n",
        "Autor: Carlos Alberto Savi\n",
        "Capítulo: Estrutura de Dados\n",
        "Soluções dos Exercícios\n",
        "'''\n",
        "\n",
        "## Exercício 2\n",
        "\n",
        "# O seguinte código contém um erro de sintaxe.\n",
        "# Identifique e corrija o erro.\n",
        "\n",
        "'''\n",
        "frutas = [\"maçã\", \"banana\", \"cereja\"\n",
        "frutas.append(\"laranja\")\n",
        "print(frutas)\n",
        "'''\n",
        "\n",
        "# Resposta: O erro está na falta de um colchete de fechamento \"]\"\n",
        "# na definição da lista frutas.\n",
        "\n",
        "# Código corrigido\n",
        "frutas = [\"maçã\", \"banana\", \"cereja\"]\n",
        "frutas.append(\"laranja\")\n",
        "print(frutas)\n",
        "\n",
        "## Exercício 3\n",
        "\n",
        "# Escreva um programa em Python que crie um dicionário\n",
        "# para armazenar informações sobre vários alunos.\n",
        "# O programa deve permitir adicionar novos alunos\n",
        "# com suas respectivas notas em três disciplinas\n",
        "# (Matemática, Português e Ciências).\n",
        "# Em seguida, o programa deve calcular\n",
        "# e exibir a média das notas de cada aluno.\n",
        "\n",
        "# Exemplo de Solução:\n",
        "\n",
        "# Função para adicionar alunos ao dicionário\n",
        "def adicionar_aluno(dicionario_alunos, nome, notas):\n",
        "    dicionario_alunos[nome] = notas\n",
        "\n",
        "# Função para calcular a média das notas de um aluno\n",
        "def calcular_media(notas):\n",
        "    return sum(notas) / len(notas)\n",
        "\n",
        "# Dicionário para armazenar os dados dos alunos\n",
        "alunos = {}\n",
        "\n",
        "# Adicionando alunos ao dicionário\n",
        "adicionar_aluno(alunos, \"Carlos\", [8, 7, 9])\n",
        "adicionar_aluno(alunos, \"Ana\", [10, 9, 10])\n",
        "adicionar_aluno(alunos, \"João\", [6, 5, 8])\n",
        "\n",
        "# Calculando e exibindo a média das notas de cada aluno\n",
        "for aluno, notas in alunos.items():\n",
        "    media = calcular_media(notas)\n",
        "    print(f\"Média das notas de {aluno}: {media:.2f}\")\n"
      ]
    }
  ]
}