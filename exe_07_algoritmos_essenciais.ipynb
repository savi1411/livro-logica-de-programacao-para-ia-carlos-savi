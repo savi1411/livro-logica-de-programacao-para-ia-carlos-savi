{
  "nbformat": 4,
  "nbformat_minor": 0,
  "metadata": {
    "colab": {
      "provenance": []
    },
    "kernelspec": {
      "name": "python3",
      "display_name": "Python 3"
    },
    "language_info": {
      "name": "python"
    }
  },
  "cells": [
    {
      "cell_type": "code",
      "execution_count": null,
      "metadata": {
        "id": "cuEJP1269YHq"
      },
      "outputs": [],
      "source": [
        "'''\n",
        "Livro: Lógica de Programação para IA\n",
        "Autor: Carlos Alberto Savi\n",
        "Capítulo: Algoritmos Essenciais\n",
        "Soluções dos Exercícios\n",
        "'''\n",
        "\n",
        "## Exercício 2\n",
        "\n",
        "# Considere o seguinte código de Busca Binária.\n",
        "# Qual será a saída do código ao procurar\n",
        "# o número 10 na lista [1, 3, 5, 7, 9, 11, 13, 15, 17, 19]?\n",
        "def busca_binaria(arr, x):\n",
        "    low = 0\n",
        "    high = len(arr) - 1\n",
        "    while low <= high:\n",
        "        mid = (high + low) // 2\n",
        "        if arr[mid] < x:\n",
        "            low = mid + 1\n",
        "        elif arr[mid] > x:\n",
        "            high = mid - 1\n",
        "        else:\n",
        "            return mid\n",
        "    return -1\n",
        "\n",
        "arr = [1, 3, 5, 7, 9, 11, 13, 15, 17, 19]\n",
        "x = 10\n",
        "resultado = busca_binaria(arr, x)\n",
        "print(\"Resultado da busca:\", resultado)\n",
        "\n",
        "\n",
        "# Saída Esperada:\n",
        "# O código de Busca Binária retorna -1,\n",
        "# indicando que o número 10 não está na lista.\n",
        "\n",
        "## Exercício 3\n",
        "\n",
        "# Utilizando com referência o exemplo prático apresentado na parte teórica,\n",
        "# implemente o algoritmo de ordenação Bubble Sort\n",
        "# para ordenar uma lista de números inteiros em ordem crescente.\n",
        "# Escreva um código que receba uma lista e a ordene usando o Bubble Sort.\n",
        "# Teste seu código com a lista [45, 23, 89, 77, 12, 67, 34].\n",
        "\n",
        "# Implementação do Bubble Sort\n",
        "def bubble_sort(lista):\n",
        "    n = len(lista)\n",
        "    for i in range(n):\n",
        "        for j in range(0, n-i-1):\n",
        "            if lista[j] > lista[j+1]:\n",
        "                lista[j], lista[j+1] = lista[j+1], lista[j]\n",
        "\n",
        "# Lista para ordenar\n",
        "lista = [45, 23, 89, 77, 12, 67, 34]\n",
        "bubble_sort(lista)\n",
        "print(\"Lista ordenada:\", lista)\n",
        "\n",
        "# Saída Esperada:\n",
        "# Lista ordenada: [12, 23, 34, 45, 67, 77, 89]\n"
      ]
    }
  ]
}