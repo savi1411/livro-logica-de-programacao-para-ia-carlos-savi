{
  "nbformat": 4,
  "nbformat_minor": 0,
  "metadata": {
    "colab": {
      "provenance": []
    },
    "kernelspec": {
      "name": "python3",
      "display_name": "Python 3"
    },
    "language_info": {
      "name": "python"
    }
  },
  "cells": [
    {
      "cell_type": "code",
      "execution_count": null,
      "metadata": {
        "id": "CrJ24Hyn7e29"
      },
      "outputs": [],
      "source": [
        "'''\n",
        "Livro: Lógica de Programação para IA\n",
        "Autor: Carlos Alberto Savi\n",
        "Capítulo: Introdução à Lógica de Programação\n",
        "Soluções dos Exercícios\n",
        "'''\n",
        "\n",
        "## Exercício 3\n",
        "\n",
        "# O snippet de código a seguir contém um erro de sintaxe.\n",
        "# Identifique e corrija o erro para que o código funcione corretamente.\n",
        "\n",
        "'''\n",
        "print(Bem-vindo ao curso de programação)\n",
        "'''\n",
        "\n",
        "# Solução:\n",
        "print(\"Bem-vindo ao curso de programação\")\n",
        "\n",
        "## Exercício 4\n",
        "\n",
        "# Crie um programa simples em Python que peça ao usuário\n",
        "# três números e retorne a média deles.\n",
        "\n",
        "# Solução:\n",
        "\n",
        "# Solicitar três números ao usuário\n",
        "num1 = float(input(\"Digite o primeiro número: \"))\n",
        "num2 = float(input(\"Digite o segundo número: \"))\n",
        "num3 = float(input(\"Digite o terceiro número: \"))\n",
        "\n",
        "# Calcular a média\n",
        "media = (num1 + num2 + num3) / 3\n",
        "\n",
        "# Exibir o resultado\n",
        "print(f\"A média dos três números é: {media}\")\n",
        ""
      ]
    }
  ]
}