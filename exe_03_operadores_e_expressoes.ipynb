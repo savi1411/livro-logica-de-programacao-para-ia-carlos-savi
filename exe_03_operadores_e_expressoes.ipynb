{
  "nbformat": 4,
  "nbformat_minor": 0,
  "metadata": {
    "colab": {
      "provenance": []
    },
    "kernelspec": {
      "name": "python3",
      "display_name": "Python 3"
    },
    "language_info": {
      "name": "python"
    }
  },
  "cells": [
    {
      "cell_type": "code",
      "execution_count": null,
      "metadata": {
        "id": "wl03OgJt8D3L"
      },
      "outputs": [],
      "source": [
        "'''\n",
        "Livro: Lógica de Programação para IA\n",
        "Autor: Carlos Alberto Savi\n",
        "Capítulo: Operadores e Expressões\n",
        "Soluções dos Exercícios\n",
        "'''\n",
        "\n",
        "## Exercício 2\n",
        "\n",
        "# Qual será a saída do seguinte snippet de código?\n",
        "# (Verdadeiro (True) ou Falso (False))\n",
        "\n",
        "a = 10\n",
        "b = 5\n",
        "resultado = (a > b) and (a != b)\n",
        "print(resultado)\n",
        "\n",
        "# Resposta esperada: True\n",
        "\n",
        "## Exercício 3\n",
        "\n",
        "# Escreva um programa em Python que peça ao usuário para inserir\n",
        "# dois números e depois imprima a soma, a diferença, o produto\n",
        "# e o quociente desses números.\n",
        "# Use variáveis para armazenar os números e comandos de saída para exibir os resultados. Utilize operadores aritméticos e formatação de strings.\n",
        "\n",
        "num1 = float(input(\"Digite o primeiro número: \"))\n",
        "num2 = float(input(\"Digite o segundo número: \"))\n",
        "\n",
        "soma = num1 + num2\n",
        "diferenca = num1 - num2\n",
        "produto = num1 * num2\n",
        "quociente = num1 / num2 if num2 != 0 else \"Indefinido (divisão por zero)\"\n",
        "\n",
        "print(f\"A soma dos números é: {soma}\")\n",
        "print(f\"A diferença dos números é: {diferenca}\")\n",
        "print(f\"O produto dos números é: {produto}\")\n",
        "print(f\"O quociente dos números é: {quociente}\")\n"
      ]
    }
  ]
}