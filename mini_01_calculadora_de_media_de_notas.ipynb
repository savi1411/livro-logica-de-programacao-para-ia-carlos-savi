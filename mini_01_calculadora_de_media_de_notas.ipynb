{
  "nbformat": 4,
  "nbformat_minor": 0,
  "metadata": {
    "colab": {
      "provenance": []
    },
    "kernelspec": {
      "name": "python3",
      "display_name": "Python 3"
    },
    "language_info": {
      "name": "python"
    }
  },
  "cells": [
    {
      "cell_type": "code",
      "execution_count": null,
      "metadata": {
        "id": "7XNDTyD7-Ew8"
      },
      "outputs": [],
      "source": [
        "'''\n",
        "Livro: Lógica de Programação para IA\n",
        "Autor: Carlos Alberto Savi\n",
        "Miniprojeto: Calculadora de Média de Notas\n",
        "'''\n",
        "\n",
        "# Inicializando a lista de notas\n",
        "notas = []\n",
        "\n",
        "# Loop para entrada de notas\n",
        "while True:\n",
        "    entrada = input(\"Digite a nota do aluno (ou 'fim' para terminar): \")\n",
        "    if entrada.lower() == 'fim':\n",
        "        break\n",
        "    else:\n",
        "        try:\n",
        "            nota = float(entrada)\n",
        "            if 0 <= nota <= 10:\n",
        "                notas.append(nota)\n",
        "            else:\n",
        "                print(\"Nota inválida. Digite uma nota entre 0 e 10.\")\n",
        "        except ValueError:\n",
        "            print(\"Entrada inválida. Digite um número ou 'fim' para terminar.\")\n",
        "\n",
        "# Calculando a média das notas\n",
        "if len(notas) > 0:\n",
        "    media = sum(notas) / len(notas)\n",
        "else:\n",
        "    media = 0\n",
        "\n",
        "print(f\"Média das notas: {media:.2f}\")\n",
        "\n",
        "# Verificando se o aluno foi aprovado ou reprovado\n",
        "if media >= 6:\n",
        "    print(\"Aluno aprovado!\")\n",
        "else:\n",
        "    print(\"Aluno reprovado.\")\n",
        ""
      ]
    }
  ]
}