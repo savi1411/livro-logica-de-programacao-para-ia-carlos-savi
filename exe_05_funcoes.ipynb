{
  "nbformat": 4,
  "nbformat_minor": 0,
  "metadata": {
    "colab": {
      "provenance": []
    },
    "kernelspec": {
      "name": "python3",
      "display_name": "Python 3"
    },
    "language_info": {
      "name": "python"
    }
  },
  "cells": [
    {
      "cell_type": "code",
      "execution_count": null,
      "metadata": {
        "id": "8XApeFXD87pT"
      },
      "outputs": [],
      "source": [
        "'''\n",
        "Livro: Lógica de Programação para IA\n",
        "Autor: Carlos Alberto Savi\n",
        "Capítulo: Funções\n",
        "Soluções dos Exercícios\n",
        "'''\n",
        "\n",
        "## Exercício 2\n",
        "\n",
        "# O snippet de código contém um erro de sintaxe.\n",
        "# Identifique e corrija o erro para que o código funcione corretamente.\n",
        "\n",
        "'''\n",
        "def saudacao(nome):\n",
        "    print(f\"Olá, {nome}!\")\n",
        "\n",
        "saudacoes(\"Carlos\")\n",
        "'''\n",
        "\n",
        "# Resposta: O nome da função estava inconsistente.\n",
        "# Aqui está o código corrigido:\n",
        "def saudacao(nome):\n",
        "    print(f\"Olá, {nome}!\")\n",
        "\n",
        "saudacao(\"Carlos\")\n",
        "\n",
        "## Exercício 3\n",
        "\n",
        "# Escreva uma função personalizada chamada maior que receba\n",
        "# três números inteiros e retorne qual o maior desses números.\n",
        "# Em seguida, solicite ao usuário a digitação de três números,\n",
        "# passe os números digitados como argumentos da função e imprima o retorno da função.\n",
        "\n",
        "# Solução:\n",
        "def maior(a, b, c):\n",
        "    maior_numero = a  # Suponha que a seja o maior\n",
        "    if b > maior_numero:\n",
        "        maior_numero = b\n",
        "    if c > maior_numero:\n",
        "        maior_numero = c\n",
        "    return maior_numero\n",
        "\n",
        "# Solicitando ao usuário para inserir três números inteiros\n",
        "num1 = int(input(\"Digite o primeiro número: \"))\n",
        "num2 = int(input(\"Digite o segundo número: \"))\n",
        "num3 = int(input(\"Digite o terceiro número: \"))\n",
        "\n",
        "# Calculando o maior número usando a função maior\n",
        "resultado = maior(num1, num2, num3)\n",
        "print(f\"O maior dos três números fornecidos é: {resultado}\")\n"
      ]
    }
  ]
}