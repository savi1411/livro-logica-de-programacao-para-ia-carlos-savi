{
  "nbformat": 4,
  "nbformat_minor": 0,
  "metadata": {
    "colab": {
      "provenance": []
    },
    "kernelspec": {
      "name": "python3",
      "display_name": "Python 3"
    },
    "language_info": {
      "name": "python"
    }
  },
  "cells": [
    {
      "cell_type": "code",
      "execution_count": null,
      "metadata": {
        "id": "xh0obqWvvW36"
      },
      "outputs": [],
      "source": [
        "'''\n",
        "Livro: Lógica de Programação para IA\n",
        "Autor: Carlos Alberto Savi\n",
        "Capítulo: Introdução à Lógica de Programação\n",
        "'''\n",
        "\n",
        "## Exemplo de um Programa Simples\n",
        "# Instrução para exibir uma mensagem\n",
        "print(\"Olá, Mundo!\")\n",
        "# Fim do programa\n",
        "\n",
        "## Exemplo de Erro de Sintaxe\n",
        "\n",
        "# Código com erro de sintaxe\n",
        "# DICA: remova o comentário antes da linha para visualizar o erro\n",
        "# print(\"Olá, Mundo!\"\n",
        "\n",
        "# Código correto\n",
        "print(\"Olá, Mundo!\")\n"
      ]
    }
  ]
}